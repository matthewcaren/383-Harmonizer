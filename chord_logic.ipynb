{
 "cells": [
  {
   "cell_type": "code",
   "execution_count": 1,
   "id": "0fc62727",
   "metadata": {},
   "outputs": [],
   "source": [
    "from music21 import *"
   ]
  },
  {
   "cell_type": "code",
   "execution_count": null,
   "id": "d0e71499",
   "metadata": {},
   "outputs": [],
   "source": [
    "def find_roman_numeral(melody_note, following_chord, key):\n",
    "    \"\"\"\n",
    "    Takes a melody note (a music21 note), a following_chord (a music21 chord), and\n",
    "    a key(a music21 key), and returns a music21 chord that includes the melody note\n",
    "    and (hopefully) makes harmonic sense\n",
    "    \"\"\"\n",
    "    return following_chord"
   ]
  }
 ],
 "metadata": {
  "kernelspec": {
   "display_name": "Python 3 (ipykernel)",
   "language": "python",
   "name": "python3"
  },
  "language_info": {
   "codemirror_mode": {
    "name": "ipython",
    "version": 3
   },
   "file_extension": ".py",
   "mimetype": "text/x-python",
   "name": "python",
   "nbconvert_exporter": "python",
   "pygments_lexer": "ipython3",
   "version": "3.9.7"
  }
 },
 "nbformat": 4,
 "nbformat_minor": 5
}
