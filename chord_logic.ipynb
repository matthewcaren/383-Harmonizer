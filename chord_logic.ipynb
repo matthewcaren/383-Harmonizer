{
 "cells": [
  {
   "cell_type": "code",
   "execution_count": 1,
   "id": "95311635",
   "metadata": {},
   "outputs": [],
   "source": [
    "from music21 import *\n",
    "import random"
   ]
  },
  {
   "cell_type": "code",
   "execution_count": 2,
   "id": "d83988fc",
   "metadata": {},
   "outputs": [],
   "source": [
    "def is_tonic(numeral, key):\n",
    "    \"\"\"\n",
    "    Returns True if the numeral (a music21 RomanNumeral) is the tonic in the given\n",
    "    music21 Key, otherwise returns False\n",
    "    \"\"\"\n",
    "    if numeral.romanNumeral == 'I':\n",
    "        if key.type == 'major':\n",
    "            return True\n",
    "    if numeral.romanNumeral == 'i':\n",
    "        if key.type == 'minor':\n",
    "            return True\n",
    "    return False"
   ]
  },
  {
   "cell_type": "code",
   "execution_count": 3,
   "id": "06cbd6fe",
   "metadata": {},
   "outputs": [],
   "source": [
    "def find_leading_dominant(numeral, k):\n",
    "    \"\"\"\n",
    "    Given a music21 RomanNumeral, returns the RomanNumeral of the leading dominant relative to the key k\n",
    "    \"\"\"\n",
    "    fake_key = key.Key(numeral.root().name)\n",
    "    V_in_fake = roman.RomanNumeral('V', fake_key)\n",
    "    V_chord = chord.Chord(V_in_fake)\n",
    "    return roman.romanNumeralFromChord(V_chord, k)"
   ]
  },
  {
   "cell_type": "code",
   "execution_count": 4,
   "id": "bcf4ed78",
   "metadata": {},
   "outputs": [],
   "source": [
    "def find_leading_minor(numeral, k):\n",
    "    \"\"\"\n",
    "    Given a music21 RomanNumeral, returns the RomanNumeral of the leading minor relative to the key k\n",
    "    \"\"\"\n",
    "    fake_key = key.Key(numeral.root().name)\n",
    "    V_in_fake = roman.RomanNumeral('v', fake_key)\n",
    "    V_chord = chord.Chord(V_in_fake)\n",
    "    return roman.romanNumeralFromChord(V_chord, k)"
   ]
  },
  {
   "cell_type": "code",
   "execution_count": 7,
   "id": "b8c0febc",
   "metadata": {},
   "outputs": [],
   "source": [
    "# MAIN FUNCTION\n",
    "\n",
    "def find_roman_numeral(melody_note, following_chord, k):\n",
    "    \"\"\"\n",
    "    Takes a melody note (a music21 Note), a following_chord (a music21 RomanNumeral), and\n",
    "    a key k (a music21 Key), and returns a RomanNumeral that includes the melody note\n",
    "    and (hopefully) makes harmonic sense\n",
    "    \"\"\"\n",
    "    following_is_tonic = is_tonic(following_chord, k)\n",
    "    \n",
    "    # try V and IV (in that order) if they contain melody note & next chord is tonic\n",
    "    if following_is_tonic:\n",
    "        if melody_note.pitchClass in [n.pitchClass for n in roman.RomanNumeral(\"V7\", k).pitches]:\n",
    "            return roman.RomanNumeral(\"V\", k)\n",
    "        if melody_note.pitchClass in [n.pitchClass for n in roman.RomanNumeral(\"IV\", k).pitches]:\n",
    "            return roman.RomanNumeral(\"IV\", k)\n",
    "    \n",
    "    # try IV-V if next chord is V\n",
    "    if following_chord.romanNumeral == 'V':\n",
    "        if key.type == 'major':\n",
    "            if melody_note.pitchClass in [n.pitchClass for n in roman.RomanNumeral(\"IV\", k).pitches]:\n",
    "                return roman.RomanNumeral(\"IV\", k)\n",
    "        else:\n",
    "            if melody_note.pitchClass in [n.pitchClass for n in roman.RomanNumeral(\"iv\", k).pitches]:\n",
    "                return roman.RomanNumeral(\"iv\", k)\n",
    "    \n",
    "    if key.type == 'major':\n",
    "        if melody_note.pitchClass in [n.pitchClass for n in roman.RomanNumeral(\"I\", k).pitches]:\n",
    "            if random.random() > 0.5:\n",
    "                return roman.RomanNumeral(\"I\", k)\n",
    "    else:\n",
    "        if melody_note.pitchClass in [n.pitchClass for n in roman.RomanNumeral(\"i\", k).pitches]:\n",
    "                    if random.random() > 0.5:\n",
    "                        return roman.RomanNumeral(\"i\", k)\n",
    "        \n",
    "    # try leading dominant if melody note in that chord\n",
    "    if melody_note.pitchClass in [n.pitchClass for n in find_leading_dominant(following_chord, k).pitches]:\n",
    "        return find_leading_dominant(following_chord, k)\n",
    "\n",
    "    # try leading minor if melody note in that chord\n",
    "    if melody_note.pitchClass in [n.pitchClass for n in find_leading_minor(following_chord, k).pitches]:\n",
    "        return find_leading_minor(following_chord, k)\n",
    "\n",
    "    \n",
    "    # elif following chord is major & melody note in that chord:\n",
    "        # chord[beat] = relative minor\n",
    "    # else:\n",
    "        # chord[beat] = closest chord (re: circle of fourths/fifths) that includes the melody note\n",
    "        \n",
    "    \n",
    "    # ... otherwise just stay same\n",
    "    return following_chord"
   ]
  },
  {
   "cell_type": "code",
   "execution_count": null,
   "id": "043bc8de",
   "metadata": {},
   "outputs": [],
   "source": []
  }
 ],
 "metadata": {
  "kernelspec": {
   "display_name": "Python 3 (ipykernel)",
   "language": "python",
   "name": "python3"
  },
  "language_info": {
   "codemirror_mode": {
    "name": "ipython",
    "version": 3
   },
   "file_extension": ".py",
   "mimetype": "text/x-python",
   "name": "python",
   "nbconvert_exporter": "python",
   "pygments_lexer": "ipython3",
   "version": "3.9.7"
  }
 },
 "nbformat": 4,
 "nbformat_minor": 5
}
