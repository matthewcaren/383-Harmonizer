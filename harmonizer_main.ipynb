{
 "cells": [
  {
   "cell_type": "code",
   "execution_count": 2,
   "metadata": {},
   "outputs": [],
   "source": [
    "from music21 import *"
   ]
  },
  {
   "cell_type": "code",
   "execution_count": 3,
   "metadata": {},
   "outputs": [],
   "source": [
    "%run chord_logic.ipynb\n",
    "\n",
    "def harmonize(melody):\n",
    "    '''\n",
    "    Given a melody as a music21 Score object, returns a new Score object involving\n",
    "    a possible harmonization of the melody.\n",
    "    '''\n",
    "    # > let's at first assume we're assigning a chord every beat for simplicity's sake\n",
    "    \n",
    "    melody_key = melody.analyze('key')\n",
    "    \n",
    "    part1 = analyze_romans(melody, melody_key)\n",
    "    \n",
    "    # chord[last melody note] = tonic\n",
    "    \n",
    "    # working backwards from last chord, iterate through each beat and call find_roman_numeral()\n",
    "    part2 = fill_in_chords(part1)\n",
    "    \n",
    "    return part2"
   ]
  },
  {
   "cell_type": "code",
   "execution_count": 38,
   "metadata": {},
   "outputs": [
    {
     "data": {
      "image/png": "[encoded data removed]",
      "text/plain": [
       "<IPython.core.display.Image object>"
      ]
     },
     "metadata": {
      "image/png": {
       "height": 58,
       "width": 674
      }
     },
     "output_type": "display_data"
    },
    {
     "data": {
      "text/html": [
       "\n",
       "                <div id='midiPlayerDiv20589'></div>\n",
       "                <link rel=\"stylesheet\" href=\"//cuthbertLab.github.io/music21j/css/m21.css\"\n",
       "                    type=\"text/css\" />\n",
       "                <script>\n",
       "                require.config({\n",
       "                    paths: {'music21': '//cuthbertLab.github.io/music21j/src/music21'}\n",
       "                });\n",
       "                require(['music21'], function() {\n",
       "                               mp = new music21.miditools.MidiPlayer();\n",
       "                               mp.addPlayer('#midiPlayerDiv20589');\n",
       "                               mp.base64Load('data:audio/midi;base64,TVRoZAAAAAYAAQACBABNVHJrAAAAFAD/UQMHoSAA/1gEBAIYCIgA/y8ATVRyawAAAS4A/wMAAOAAQIgAkEBaiACAQAAAkEhaiACASAAAkENaiACAQwAAkEdaiACARwAAkD5aiACAPgAAkEdaiACARwAAkEdaiACARwAAkD5aiACAPgAAkENaiACAQwAAkEBaiACAQAAAkEhaiACASAAAkEFaiACAQQAAkEhaiACASAAAkD5aiACAPgAAkENaiACAQwAAkDtaiACAOwAAkDxaiACAPAAAkEhaiACASAAAkEBaiACAQAAAkD5aiACAPgAAkD5aiACAPgAAkEFaiACAQQAAkEhaiACASAAAkEFaiACAQQAAkENaiACAQwAAkD5aiACAPgAAkENaiACAQwAAkDxaiACAPAAAkEhaiACASAAAkEhaiACASAAAkDdaiACANwAAkDxaiACAPACIAP8vAA==');\n",
       "                        });\n",
       "                </script>"
      ],
      "text/plain": [
       "<IPython.core.display.HTML object>"
      ]
     },
     "metadata": {},
     "output_type": "display_data"
    }
   ],
   "source": [
    "import random\n",
    "\n",
    "#NOTE: 1, 2, 6, 7 have only quarter/half/whole notes\n",
    "\n",
    "# simple melody - I-IV-V-I works in both measures, though vi is also valid in beat 2 of measure 2\n",
    "sample_melody_1 = converter.parse(\"tinyNotation: 4/4 c f g c c A B c\")\n",
    "# sample_melody_1.show()\n",
    "\n",
    "# slightly more complicated - measure 2 can be viewed as (IV/vi)-ii-(V/viio)-I. still only quarter notes\n",
    "sample_melody_2 = converter.parse(\"tinyNotation: 4/4 c f g c' a d B c\")\n",
    "# sample_melody_2.show()\n",
    "\n",
    "# slightly different rhythm, involving some 8th notes, and contains some room for interpreting things as V7 chords\n",
    "sample_melody_3 = converter.parse(\"tinyNotation: 4/4 c2 g8 f8 e4 e d f e\")\n",
    "# sample_melody_3.show()\n",
    "\n",
    "# new key of G major, and slightly more complex rhythm involving 16th notes\n",
    "sample_melody_4 = converter.parse(\"tinyNotation: 4/4 g4 c'4 f#16 d16 f#8 g4 b c' a8 f#8 g4\")\n",
    "sample_melody_4.append(key.KeySignature(1))\n",
    "# sample_melody_4.show()\n",
    "\n",
    "# slightly longer melody, with varying T(-PD)-D-T segment lengths\n",
    "sample_melody_5 = converter.parse(\"tinyNotation: 4/4 c a b c' a g c'8 a8 c'4 a f d g8 f8 e4 d G c\")\n",
    "# sample_melody_5.show()\n",
    "\n",
    "# this will be interesting\n",
    "sample_melody_6 = converter.parse(\"tinyNotation: 4/4 c d c e c f c g c a c b c B c2 c4 d e f g a b c' b a g f e d c2\")\n",
    "#sample_melody_6.show()\n",
    "\n",
    "# randomly generated\n",
    "current_func = 0\n",
    "melody_7_str = ''\n",
    "for i in range(30):\n",
    "    current_func += random.choice([0, 0, 0, 1, 1])\n",
    "    current_func = current_func%3\n",
    "    if current_func == 0:\n",
    "        melody_7_str += random.choice([\" c\", \" e\", \" g\", \" c'\"])\n",
    "    if current_func == 1:\n",
    "        melody_7_str += random.choice([\" d\", \" f\", \" a\", \" c'\"])\n",
    "    if current_func == 2:\n",
    "        melody_7_str += random.choice([\" B\", \" d\", \" g\", \" b\"])\n",
    "sample_melody_7 = converter.parse(\"tinyNotation:\"+melody_7_str+\" G c\")\n",
    "sample_melody_7.show()\n",
    "sample_melody_7.show('midi')\n"
   ]
  },
  {
   "cell_type": "code",
   "execution_count": null,
   "metadata": {},
   "outputs": [],
   "source": []
  }
 ],
 "metadata": {
  "kernelspec": {
   "display_name": "Python 3",
   "language": "python",
   "name": "python3"
  },
  "language_info": {
   "codemirror_mode": {
    "name": "ipython",
    "version": 3
   },
   "file_extension": ".py",
   "mimetype": "text/x-python",
   "name": "python",
   "nbconvert_exporter": "python",
   "pygments_lexer": "ipython3",
   "version": "3.8.5"
  }
 },
 "nbformat": 4,
 "nbformat_minor": 5
}
