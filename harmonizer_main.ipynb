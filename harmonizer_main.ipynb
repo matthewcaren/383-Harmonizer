{
 "cells": [
  {
   "cell_type": "code",
   "execution_count": 2,
   "id": "10520d1e",
   "metadata": {},
   "outputs": [],
   "source": [
    "from music21 import *"
   ]
  },
  {
   "cell_type": "code",
   "execution_count": null,
   "id": "f958db79",
   "metadata": {},
   "outputs": [],
   "source": [
    "def harmonize(melody):\n",
    "    '''\n",
    "    Given a melody as a music21 Score object, returns a new Score object involving\n",
    "    a possible harmonization of the melody.\n",
    "    '''\n",
    "    # > let's at first assume we're assigning a chord every beat for simplicity's sake\n",
    "    \n",
    "    melody_key = melody.analyze('key')\n",
    "    \n",
    "    part1 = analyze_romans(melody, melody_key)\n",
    "    \n",
    "    # chord[last melody note] = tonic\n",
    "    \n",
    "    # working backwards from last chord, iterate through each beat and call find_roman_numeral()\n",
    "    part2 = fill_in_chords(part1)\n",
    "    \n",
    "    return part2"
   ]
  }
 ],
 "metadata": {
  "kernelspec": {
   "display_name": "Python 3 (ipykernel)",
   "language": "python",
   "name": "python3"
  },
  "language_info": {
   "codemirror_mode": {
    "name": "ipython",
    "version": 3
   },
   "file_extension": ".py",
   "mimetype": "text/x-python",
   "name": "python",
   "nbconvert_exporter": "python",
   "pygments_lexer": "ipython3",
   "version": "3.9.7"
  }
 },
 "nbformat": 4,
 "nbformat_minor": 5
}
