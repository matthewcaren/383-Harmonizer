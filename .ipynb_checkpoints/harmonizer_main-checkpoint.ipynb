{
 "cells": [
  {
   "cell_type": "code",
   "execution_count": 2,
   "metadata": {},
   "outputs": [],
   "source": [
    "from music21 import *"
   ]
  },
  {
   "cell_type": "code",
   "execution_count": null,
   "metadata": {},
   "outputs": [],
   "source": [
    "def harmonize(melody):\n",
    "    '''\n",
    "    Given a melody as a music21 Score object, returns a new Score object involving\n",
    "    a possible harmonization of the melody.\n",
    "    '''\n",
    "    # > let's at first assume we're assigning a chord every beat for simplicity's sake\n",
    "    \n",
    "    melody_key = melody.analyze('key')\n",
    "    \n",
    "    part1 = analyze_romans(melody, melody_key)\n",
    "    \n",
    "    # chord[last melody note] = tonic\n",
    "    \n",
    "    #for beat in melody[::-1]:      (starting with last chord and working backwards)\n",
    "        # if following chord is tonic & melody note in V7 chord:\n",
    "            # chord[beat] = V7\n",
    "        # elif following chord is tonic & melody note in IV (or ii) chord:\n",
    "            # chord[beat] = IV (or ii)\n",
    "        # elif following chord is major & melody note in that chord:\n",
    "            # chord[beat] = relative minor\n",
    "        # elif V7 of following chord includes melody note:\n",
    "            # chord[beat] = V7 of following chord (work backwards around circle of fourths)\n",
    "        # else:\n",
    "            # chord[beat] = closest chord (re: circle of fourths/fifths) that includes the melody note\n",
    "    \n",
    "    part2 = fill_in_chords(part1)\n",
    "    \n",
    "    return part2"
   ]
  }
 ],
 "metadata": {
  "kernelspec": {
   "display_name": "Python 3",
   "language": "python",
   "name": "python3"
  },
  "language_info": {
   "codemirror_mode": {
    "name": "ipython",
    "version": 3
   },
   "file_extension": ".py",
   "mimetype": "text/x-python",
   "name": "python",
   "nbconvert_exporter": "python",
   "pygments_lexer": "ipython3",
   "version": "3.8.5"
  }
 },
 "nbformat": 4,
 "nbformat_minor": 5
}
